{
  "nbformat": 4,
  "nbformat_minor": 0,
  "metadata": {
    "colab": {
      "provenance": [],
      "collapsed_sections": [],
      "authorship_tag": "ABX9TyOfRPmY37pJq8bpF+gakSox",
      "include_colab_link": true
    },
    "kernelspec": {
      "name": "python3",
      "display_name": "Python 3"
    },
    "language_info": {
      "name": "python"
    }
  },
  "cells": [
    {
      "cell_type": "markdown",
      "metadata": {
        "id": "view-in-github",
        "colab_type": "text"
      },
      "source": [
        "<a href=\"https://colab.research.google.com/github/Rupesh1919/ML/blob/main/Project3.ipynb\" target=\"_parent\"><img src=\"https://colab.research.google.com/assets/colab-badge.svg\" alt=\"Open In Colab\"/></a>"
      ]
    },
    {
      "cell_type": "markdown",
      "source": [
        "# Task1\n",
        "# created a directed acyclic graph with average connectivity =2 (5*0.4=2)\n",
        "# In the probability tables 0 represents the negative case and 1 represents positive case\n",
        "# import required module"
      ],
      "metadata": {
        "id": "t9g3RfOArAO2"
      }
    },
    {
      "cell_type": "code",
      "execution_count": null,
      "metadata": {
        "colab": {
          "base_uri": "https://localhost:8080/",
          "height": 428
        },
        "id": "qs3Vb_imtSR9",
        "outputId": "74c9f8cd-2401-45ae-d1e5-b7a8de67e66a"
      },
      "outputs": [
        {
          "output_type": "stream",
          "name": "stdout",
          "text": [
            "{(0, 4): -5, (1, 4): -8, (2, 3): -9}\n",
            "finding descendants of nodes\n",
            "For node 0 It's descendants are [4]\n",
            "For node 1 It's descendants are [4]\n",
            "For node 2 It's descendants are [3]\n",
            "For node 3 It's descendants are []\n"
          ]
        },
        {
          "output_type": "display_data",
          "data": {
            "text/plain": [
              "<Figure size 432x288 with 1 Axes>"
            ],
            "image/png": "[encoded data removed]"
          },
          "metadata": {}
        }
      ],
      "source": [
        "import networkx as nx\n",
        "import random\n",
        "# create object\n",
        "#G = nx.barabasi_albert_graph (5,2)\n",
        "N=5\n",
        "G= nx.gnp_random_graph (5, 0.4, seed=10,directed=True) \n",
        "DAG = nx.DiGraph([(u,v,{'weight':random.randint(-10,10)}) for (u,v) in G.edges() if u<v])\n",
        "# for (u, v) in G.edges():\n",
        "#   G.edges[u,v]['weight'] = random.random()\n",
        "  # print(u,v, \" Conditional probability = %1.2f \" % G.edges[u,v]['weight'])\n",
        "# note that these weights are only there for demonstration purposes. In your code\n",
        "# you will need to replace the weights by probability tables for each node.\n",
        "# illustrate graph\n",
        "pos = nx.nx_pydot.graphviz_layout(DAG)\n",
        "nx.draw(DAG,node_size=1200, node_color='lightblue', linewidths=0.25, \\\n",
        "    font_size=10, font_weight='bold',pos=pos, with_labels = True)\n",
        "labels = {e: round(DAG.edges[e]['weight'],2) for e in DAG.edges}\n",
        "print(labels)\n",
        "nx.draw_networkx_edge_labels(DAG, pos, edge_labels=labels)\n",
        "#finding descendants of a node\n",
        "print(\"finding descendants of nodes\")\n",
        "desc=[ [] for _ in range(N)]\n",
        "for link in DAG.edges():\n",
        "    desc[link[0]].append(link[1])\n",
        "for node in range(N-1):\n",
        "  print(\"For node\", node, \"It's descendants are\", desc[node])"
      ]
    },
    {
      "cell_type": "markdown",
      "source": [
        "#Task2 a)display all probability tables represented by dataframe using dynamic approach"
      ],
      "metadata": {
        "id": "QoRdlNKbrKDd"
      }
    },
    {
      "cell_type": "code",
      "source": [
        "\n",
        "k=[]\n",
        "for i in range(5):\n",
        "  count=DAG.in_degree(i)\n",
        "  if count==0:\n",
        "    a=[\"{}\".format(i),\"P(\"+\"{}\".format(i)+\")\"]\n",
        "    k.append(a)\n",
        "  elif count==1:\n",
        "    pre=0\n",
        "    for j in range(len(desc)):\n",
        "       print(desc[j])\n",
        "       if i in desc[j]:\n",
        "          pre=j\n",
        "    a=[\"{}\".format(pre),\"{}\".format(i),\"P(\"+\"{}\".format(i)+\"/\"+\"{}\".format(pre)+\")\"]\n",
        "    k.append(a)\n",
        "  else:\n",
        "    count3=[]\n",
        "    for j in range(len(desc)):\n",
        "       print(desc[j])\n",
        "       if i in desc[j]:\n",
        "          count3.append(j)\n",
        "    a=[\"{}\".format(count3[0]),\"{}\".format(count3[1]),\"{}\".format(i),\"P(\"+\"{}\".format(i)+\"/\"+\"{}\".format(count3[0])+\",\"+\"{}\".format(count3[1])+\")\"]\n",
        "    k.append(a)\n",
        "print(k)\n",
        "d = {}\n",
        "l=[]\n",
        "import pandas as pd\n",
        "import random\n",
        "rnd_num=0\n",
        "for i in range(5):\n",
        "  d['node_' + \"{}\".format(i)] =pd.DataFrame(columns=k[i])\n",
        "  print( d['node_' + \"{}\".format(i)])\n",
        "\n",
        "d['node_' + \"{}\".format(3)].columns[2]\n",
        "#Display all probability tables\n",
        "for i in range(5):\n",
        "  count=DAG.in_degree(i)\n",
        "  for j in range(2**(count+1)):\n",
        "    if j%2==0:\n",
        "      if count==2:\n",
        "        str='{0:03b}'.format(j)\n",
        "      elif count==1:\n",
        "        str='{0:02b}'.format(j)\n",
        "      elif count==0:\n",
        "        str='{0:01b}'.format(j)\n",
        "      s=[]\n",
        "      for k in str:\n",
        "        s.append(k)\n",
        "      if count==2:\n",
        "        rnd_num=random.random()\n",
        "        d['node_' + \"{}\".format(i)]=d['node_' + \"{}\".format(i)].append({d['node_' + \"{}\".format(i)].columns[0]:s[0],d['node_' + \"{}\".format(i)].columns[1]:s[1],\"{}\".format(i):s[2],d['node_' + \"{}\".format(i)].columns[3]:rnd_num},ignore_index = True)\n",
        "      elif count==1:\n",
        "        rnd_num=random.random()\n",
        "        d['node_' + \"{}\".format(i)]=d['node_' + \"{}\".format(i)].append({d['node_' + \"{}\".format(i)].columns[0]:s[0],d['node_' + \"{}\".format(i)].columns[1]:s[1],d['node_' + \"{}\".format(i)].columns[2]:rnd_num},ignore_index = True)\n",
        "      elif count==0:\n",
        "        rnd_num=random.random()\n",
        "        d['node_' + \"{}\".format(i)]=d['node_' + \"{}\".format(i)].append({d['node_' + \"{}\".format(i)].columns[0]:s[0],\"P(\"+\"{}\".format(i)+\")\":rnd_num},ignore_index = True)\n",
        "    else:\n",
        "      if count==2:\n",
        "        str='{0:03b}'.format(j)\n",
        "      elif count==1:\n",
        "        str='{0:02b}'.format(j)\n",
        "      elif count==0:\n",
        "        str='{0:01b}'.format(j)\n",
        "      s=[]\n",
        "      for k in str:\n",
        "        s.append(k)\n",
        "      if count==2:\n",
        "        d['node_' + \"{}\".format(i)]=d['node_' + \"{}\".format(i)].append({d['node_' + \"{}\".format(i)].columns[0]:s[0],d['node_' + \"{}\".format(i)].columns[1]:s[1],d['node_' + \"{}\".format(i)].columns[2]:s[2],d['node_' + \"{}\".format(i)].columns[3]:1-rnd_num},ignore_index = True)\n",
        "      elif count==1:\n",
        "        d['node_' + \"{}\".format(i)]=d['node_' + \"{}\".format(i)].append({d['node_' + \"{}\".format(i)].columns[0]:s[0],d['node_' + \"{}\".format(i)].columns[1]:s[1],d['node_' + \"{}\".format(i)].columns[2]:1-rnd_num},ignore_index = True)\n",
        "      elif count==0:\n",
        "       d['node_' + \"{}\".format(i)]=d['node_' + \"{}\".format(i)].append({d['node_' + \"{}\".format(i)].columns[0]:s[0],\"P(\"+\"{}\".format(i)+\")\":1-rnd_num},ignore_index = True)\n",
        "      print(\"\\n\")\n",
        "  print(d['node_' + \"{}\".format(i)])"
      ],
      "metadata": {
        "colab": {
          "base_uri": "https://localhost:8080/"
        },
        "id": "1bvKRYQ5tTNE",
        "outputId": "c38e4128-a404-4dce-ebd2-63362499de1f"
      },
      "execution_count": null,
      "outputs": [
        {
          "output_type": "stream",
          "name": "stdout",
          "text": [
            "[4]\n",
            "[4]\n",
            "[3]\n",
            "[]\n",
            "[]\n",
            "[4]\n",
            "[4]\n",
            "[3]\n",
            "[]\n",
            "[]\n",
            "[['0', 'P(0)'], ['1', 'P(1)'], ['2', 'P(2)'], ['2', '3', 'P(3/2)'], ['0', '1', '4', 'P(4/0,1)']]\n",
            "Empty DataFrame\n",
            "Columns: [0, P(0)]\n",
            "Index: []\n",
            "Empty DataFrame\n",
            "Columns: [1, P(1)]\n",
            "Index: []\n",
            "Empty DataFrame\n",
            "Columns: [2, P(2)]\n",
            "Index: []\n",
            "Empty DataFrame\n",
            "Columns: [2, 3, P(3/2)]\n",
            "Index: []\n",
            "Empty DataFrame\n",
            "Columns: [0, 1, 4, P(4/0,1)]\n",
            "Index: []\n",
            "\n",
            "\n",
            "   0      P(0)\n",
            "0  0  0.442433\n",
            "1  1  0.557567\n",
            "\n",
            "\n",
            "   1      P(1)\n",
            "0  0  0.872334\n",
            "1  1  0.127666\n",
            "\n",
            "\n",
            "   2      P(2)\n",
            "0  0  0.439935\n",
            "1  1  0.560065\n",
            "\n",
            "\n",
            "\n",
            "\n",
            "   2  3    P(3/2)\n",
            "0  0  0  0.781967\n",
            "1  0  1  0.218033\n",
            "2  1  0  0.978513\n",
            "3  1  1  0.021487\n",
            "\n",
            "\n",
            "\n",
            "\n",
            "\n",
            "\n",
            "\n",
            "\n",
            "   0  1  4  P(4/0,1)\n",
            "0  0  0  0  0.665504\n",
            "1  0  0  1  0.334496\n",
            "2  0  1  0  0.465733\n",
            "3  0  1  1  0.534267\n",
            "4  1  0  0  0.160793\n",
            "5  1  0  1  0.839207\n",
            "6  1  1  0  0.157292\n",
            "7  1  1  1  0.842708\n"
          ]
        }
      ]
    },
    {
      "cell_type": "markdown",
      "source": [],
      "metadata": {
        "id": "YHLG4jF4DO2K"
      }
    },
    {
      "cell_type": "markdown",
      "source": [
        "# Display of node1(Task 1)"
      ],
      "metadata": {
        "id": "Dz3mP8SFrScr"
      }
    },
    {
      "cell_type": "code",
      "source": [
        "\n",
        "d['node_1']"
      ],
      "metadata": {
        "colab": {
          "base_uri": "https://localhost:8080/",
          "height": 112
        },
        "id": "fpokx9b5gJtW",
        "outputId": "71d682c5-5117-4586-a67f-0cfdb2053c0b"
      },
      "execution_count": null,
      "outputs": [
        {
          "output_type": "execute_result",
          "data": {
            "text/plain": [
              "   1      P(1)\n",
              "0  0  0.872334\n",
              "1  1  0.127666"
            ],
            "text/html": [
              "\n",
              "  <div id=\"df-708d3a9e-3da0-4414-b410-a647f0b41aa1\">\n",
              "    <div class=\"colab-df-container\">\n",
              "      <div>\n",
              "<style scoped>\n",
              "    .dataframe tbody tr th:only-of-type {\n",
              "        vertical-align: middle;\n",
              "    }\n",
              "\n",
              "    .dataframe tbody tr th {\n",
              "        vertical-align: top;\n",
              "    }\n",
              "\n",
              "    .dataframe thead th {\n",
              "        text-align: right;\n",
              "    }\n",
              "</style>\n",
              "<table border=\"1\" class=\"dataframe\">\n",
              "  <thead>\n",
              "    <tr style=\"text-align: right;\">\n",
              "      <th></th>\n",
              "      <th>1</th>\n",
              "      <th>P(1)</th>\n",
              "    </tr>\n",
              "  </thead>\n",
              "  <tbody>\n",
              "    <tr>\n",
              "      <th>0</th>\n",
              "      <td>0</td>\n",
              "      <td>0.872334</td>\n",
              "    </tr>\n",
              "    <tr>\n",
              "      <th>1</th>\n",
              "      <td>1</td>\n",
              "      <td>0.127666</td>\n",
              "    </tr>\n",
              "  </tbody>\n",
              "</table>\n",
              "</div>\n",
              "      <button class=\"colab-df-convert\" onclick=\"convertToInteractive('df-708d3a9e-3da0-4414-b410-a647f0b41aa1')\"\n",
              "              title=\"Convert this dataframe to an interactive table.\"\n",
              "              style=\"display:none;\">\n",
              "        \n",
              "  <svg xmlns=\"http://www.w3.org/2000/svg\" height=\"24px\"viewBox=\"0 0 24 24\"\n",
              "       width=\"24px\">\n",
              "    <path d=\"M0 0h24v24H0V0z\" fill=\"none\"/>\n",
              "    <path d=\"M18.56 5.44l.94 2.06.94-2.06 2.06-.94-2.06-.94-.94-2.06-.94 2.06-2.06.94zm-11 1L8.5 8.5l.94-2.06 2.06-.94-2.06-.94L8.5 2.5l-.94 2.06-2.06.94zm10 10l.94 2.06.94-2.06 2.06-.94-2.06-.94-.94-2.06-.94 2.06-2.06.94z\"/><path d=\"M17.41 7.96l-1.37-1.37c-.4-.4-.92-.59-1.43-.59-.52 0-1.04.2-1.43.59L10.3 9.45l-7.72 7.72c-.78.78-.78 2.05 0 2.83L4 21.41c.39.39.9.59 1.41.59.51 0 1.02-.2 1.41-.59l7.78-7.78 2.81-2.81c.8-.78.8-2.07 0-2.86zM5.41 20L4 18.59l7.72-7.72 1.47 1.35L5.41 20z\"/>\n",
              "  </svg>\n",
              "      </button>\n",
              "      \n",
              "  <style>\n",
              "    .colab-df-container {\n",
              "      display:flex;\n",
              "      flex-wrap:wrap;\n",
              "      gap: 12px;\n",
              "    }\n",
              "\n",
              "    .colab-df-convert {\n",
              "      background-color: #E8F0FE;\n",
              "      border: none;\n",
              "      border-radius: 50%;\n",
              "      cursor: pointer;\n",
              "      display: none;\n",
              "      fill: #1967D2;\n",
              "      height: 32px;\n",
              "      padding: 0 0 0 0;\n",
              "      width: 32px;\n",
              "    }\n",
              "\n",
              "    .colab-df-convert:hover {\n",
              "      background-color: #E2EBFA;\n",
              "      box-shadow: 0px 1px 2px rgba(60, 64, 67, 0.3), 0px 1px 3px 1px rgba(60, 64, 67, 0.15);\n",
              "      fill: #174EA6;\n",
              "    }\n",
              "\n",
              "    [theme=dark] .colab-df-convert {\n",
              "      background-color: #3B4455;\n",
              "      fill: #D2E3FC;\n",
              "    }\n",
              "\n",
              "    [theme=dark] .colab-df-convert:hover {\n",
              "      background-color: #434B5C;\n",
              "      box-shadow: 0px 1px 3px 1px rgba(0, 0, 0, 0.15);\n",
              "      filter: drop-shadow(0px 1px 2px rgba(0, 0, 0, 0.3));\n",
              "      fill: #FFFFFF;\n",
              "    }\n",
              "  </style>\n",
              "\n",
              "      <script>\n",
              "        const buttonEl =\n",
              "          document.querySelector('#df-708d3a9e-3da0-4414-b410-a647f0b41aa1 button.colab-df-convert');\n",
              "        buttonEl.style.display =\n",
              "          google.colab.kernel.accessAllowed ? 'block' : 'none';\n",
              "\n",
              "        async function convertToInteractive(key) {\n",
              "          const element = document.querySelector('#df-708d3a9e-3da0-4414-b410-a647f0b41aa1');\n",
              "          const dataTable =\n",
              "            await google.colab.kernel.invokeFunction('convertToInteractive',\n",
              "                                                     [key], {});\n",
              "          if (!dataTable) return;\n",
              "\n",
              "          const docLinkHtml = 'Like what you see? Visit the ' +\n",
              "            '<a target=\"_blank\" href=https://colab.research.google.com/notebooks/data_table.ipynb>data table notebook</a>'\n",
              "            + ' to learn more about interactive tables.';\n",
              "          element.innerHTML = '';\n",
              "          dataTable['output_type'] = 'display_data';\n",
              "          await google.colab.output.renderOutput(dataTable, element);\n",
              "          const docLink = document.createElement('div');\n",
              "          docLink.innerHTML = docLinkHtml;\n",
              "          element.appendChild(docLink);\n",
              "        }\n",
              "      </script>\n",
              "    </div>\n",
              "  </div>\n",
              "  "
            ]
          },
          "metadata": {},
          "execution_count": 231
        }
      ]
    },
    {
      "cell_type": "markdown",
      "source": [
        "#Task2\n",
        "# c) Execute your Python code and show that your code produces the same result as in part b) above. You may want to set a constant seed value during graph\n",
        "# creation in order to perform code debugging while your graph is frozen in structure and content."
      ],
      "metadata": {
        "id": "iU5nThz-rqoX"
      }
    },
    {
      "cell_type": "code",
      "source": [
        "\n",
        "def Task2(G):\n",
        "  join_prob=1\n",
        "  for i in range(5):\n",
        "    len_prob=len(d['node_' + \"{}\".format(i)].columns)\n",
        "    count=d['node_' + \"{}\".format(i)].shape[0]\n",
        "    join_prob*=d['node_' + \"{}\".format(i)].iloc[count-1][d['node_' + \"{}\".format(i)].columns[len_prob-1]]\n",
        "  print(join_prob)\n",
        "\n",
        "\n",
        "\n"
      ],
      "metadata": {
        "id": "T7JgHiszwA3w"
      },
      "execution_count": null,
      "outputs": []
    },
    {
      "cell_type": "code",
      "source": [
        "Task2(DAG)"
      ],
      "metadata": {
        "colab": {
          "base_uri": "https://localhost:8080/"
        },
        "id": "w-NMRH-EYOd4",
        "outputId": "4c99bcd2-6678-4128-ec24-e171ecbd0a27"
      },
      "execution_count": null,
      "outputs": [
        {
          "output_type": "stream",
          "name": "stdout",
          "text": [
            "0.0007218721571152091\n"
          ]
        }
      ]
    },
    {
      "cell_type": "markdown",
      "source": [
        "Task 3\n",
        "Using the same graph that you used in Task 2, do the same as in parts b) and c) of\n",
        "Task 2, except that you replace P(+0, +1, +2, +3, +4) by P(+4 | +0, +1, +2, +3). This\n",
        "is now a classification of node 4’s status as opposed to an inference task. Note that\n",
        "this task will have one sub task a) that works out the conditional probability by hand\n",
        "and another sub task b) that display the value from your Python code."
      ],
      "metadata": {
        "id": "cWcdyeR_r7sX"
      }
    },
    {
      "cell_type": "code",
      "source": [
        "import string\n",
        "\n",
        "class Del:\n",
        "  def __init__(self, keep=string.digits):\n",
        "    self.comp = dict((ord(c),c) for c in keep)\n",
        "  def __getitem__(self, k):\n",
        "    return self.comp.get(k)"
      ],
      "metadata": {
        "id": "sjTm5OqkZqR1"
      },
      "execution_count": null,
      "outputs": []
    },
    {
      "cell_type": "code",
      "source": [
        "#Task3\n",
        "def Task3(G):\n",
        "  print(\"Enter the conditional probability\")\n",
        "  l=[]\n",
        "  s=input()\n",
        "  DD = Del()\n",
        "  var=s.translate(DD)\n",
        "  for i in var:\n",
        "     l.append(i)\n",
        "  prob_table=l[0]\n",
        "  cond_prob=[]\n",
        "  print(prob_table)\n",
        "  for k in range(len(desc)):\n",
        "    print(desc[k])\n",
        "  #conditional probability is the one when it is only descendent from any node that is only involved.\n",
        "    if int(prob_table) in desc[k]:\n",
        "       cond_prob.append(k)\n",
        "  print(\"Total Probabilty after even \"+ prob_table)\n",
        "  print(cond_prob); \n",
        "  len_prob=len(d['node_' + prob_table].columns)\n",
        "  count=len(d['node_' +prob_table])\n",
        "  print(count)\n",
        "  print(d['node_' + prob_table].iloc[count-1][d['node_' + prob_table].columns[len_prob-1]])"
      ],
      "metadata": {
        "id": "xgSjwZrTYwYR"
      },
      "execution_count": null,
      "outputs": []
    },
    {
      "cell_type": "code",
      "source": [
        "\n",
        "Task3(DAG)"
      ],
      "metadata": {
        "colab": {
          "base_uri": "https://localhost:8080/"
        },
        "id": "v5D9Xz6SfKup",
        "outputId": "0123520a-f524-48c8-9fa4-cc0aa4f32d61"
      },
      "execution_count": null,
      "outputs": [
        {
          "output_type": "stream",
          "name": "stdout",
          "text": [
            "Enter the conditional probability\n",
            "P(4/0,1,2,3)\n",
            "4\n",
            "[4]\n",
            "[4]\n",
            "[3]\n",
            "[]\n",
            "[]\n",
            "Total Probabilty after even 4\n",
            "[0, 1]\n",
            "8\n",
            "0.8427079577500111\n"
          ]
        }
      ]
    },
    {
      "cell_type": "markdown",
      "source": [
        "#task 4 We started the connectivity 0 to 3\n",
        "# When average connectivity is 0 gnp_random_graph (5, 0, seed=10,directed=True) =>5*0=0"
      ],
      "metadata": {
        "id": "VkGDoGq1sYRi"
      }
    },
    {
      "cell_type": "code",
      "source": [
        "\n",
        "import networkx as nx\n",
        "import random\n",
        "# create object\n",
        "#G = nx.barabasi_albert_graph (5,2)\n",
        "N=5\n",
        "G= nx.gnp_random_graph (5, 0, seed=10,directed=True) \n",
        "for (u, v) in G.edges():\n",
        "  G.edges[u,v]['weight'] = random.random()\n",
        "  print(u,v, \" Conditional probability = %1.2f \" % G.edges[u,v]['weight'])\n",
        "# note that these weights are only there for demonstration purposes. In your code\n",
        "# you will need to replace the weights by probability tables for each node.\n",
        "# illustrate graph\n",
        "pos = nx.nx_pydot.graphviz_layout(G)\n",
        "nx.draw(G,node_size=1200, node_color='lightblue', linewidths=0.25, \\\n",
        "    font_size=10, font_weight='bold',pos=pos, with_labels = True)\n",
        "labels = {e: round(G.edges[e]['weight'],2) for e in G.edges}\n",
        "print(labels)\n",
        "nx.draw_networkx_edge_labels(G, pos, edge_labels=labels)\n",
        "#finding descendants of a node\n",
        "print(\"finding descendants of nodes\")\n",
        "desc=[ [] for _ in range(N)]\n",
        "for link in G.edges():\n",
        "    desc[link[0]].append(link[1])\n",
        "for node in range(N-1):\n",
        "  print(\"For node\", node, \"It's descendants are\", desc[node])"
      ],
      "metadata": {
        "colab": {
          "base_uri": "https://localhost:8080/",
          "height": 428
        },
        "id": "Yh6Kb4tl6JgD",
        "outputId": "39a6c423-2fe6-4f0e-d898-d69a4ba4412c"
      },
      "execution_count": null,
      "outputs": [
        {
          "output_type": "stream",
          "name": "stdout",
          "text": [
            "{}\n",
            "finding descendants of nodes\n",
            "For node 0 It's descendants are []\n",
            "For node 1 It's descendants are []\n",
            "For node 2 It's descendants are []\n",
            "For node 3 It's descendants are []\n"
          ]
        },
        {
          "output_type": "display_data",
          "data": {
            "text/plain": [
              "<Figure size 432x288 with 1 Axes>"
            ],
            "image/png": "[encoded data removed]"
          },
          "metadata": {}
        }
      ]
    },
    {
      "cell_type": "code",
      "source": [
        "k=[]\n",
        "for i in range(5):\n",
        "  count=G.in_degree(i)\n",
        "  if count==0:\n",
        "    a=[\"{}\".format(i),\"P(\"+\"{}\".format(i)+\")\"]\n",
        "    k.append(a)\n",
        "  elif count==1:\n",
        "    pre=0\n",
        "    for j in range(len(desc)):\n",
        "       print(desc[j])\n",
        "       if i in desc[j]:\n",
        "          pre=j\n",
        "    a=[\"{}\".format(pre),\"{}\".format(i),\"P(\"+\"{}\".format(i)+\"/\"+\"{}\".format(pre)+\")\"]\n",
        "    k.append(a)\n",
        "  else:\n",
        "    count3=[]\n",
        "    for j in range(len(desc)):\n",
        "       print(desc[j])\n",
        "       if i in desc[j]:\n",
        "          count3.append(j)\n",
        "    a=[\"{}\".format(count3[0]),\"{}\".format(count3[1]),\"{}\".format(i),\"P(\"+\"{}\".format(i)+\"/\"+\"{}\".format(count3[0])+\",\"+\"{}\".format(count3[1])+\")\"]\n",
        "    k.append(a)\n",
        "print(k)\n",
        "d = {}\n",
        "l=[]\n",
        "import pandas as pd\n",
        "import random\n",
        "rnd_num=0\n",
        "for i in range(5):\n",
        "  d['node_' + \"{}\".format(i)] =pd.DataFrame(columns=k[i])\n",
        "  print( d['node_' + \"{}\".format(i)])\n",
        "\n",
        "#Display all probability tables\n",
        "for i in range(5):\n",
        "  count=G.in_degree(i)\n",
        "  for j in range(2**(count+1)):\n",
        "    if j%2==0:\n",
        "      if count==2:\n",
        "        str='{0:03b}'.format(j)\n",
        "      elif count==1:\n",
        "        str='{0:02b}'.format(j)\n",
        "      elif count==0:\n",
        "        str='{0:01b}'.format(j)\n",
        "      s=[]\n",
        "      for k in str:\n",
        "        s.append(k)\n",
        "      if count==2:\n",
        "        rnd_num=random.random()\n",
        "        d['node_' + \"{}\".format(i)]=d['node_' + \"{}\".format(i)].append({d['node_' + \"{}\".format(i)].columns[0]:s[0],d['node_' + \"{}\".format(i)].columns[1]:s[1],\"{}\".format(i):s[2],d['node_' + \"{}\".format(i)].columns[3]:rnd_num},ignore_index = True)\n",
        "      elif count==1:\n",
        "        rnd_num=random.random()\n",
        "        d['node_' + \"{}\".format(i)]=d['node_' + \"{}\".format(i)].append({d['node_' + \"{}\".format(i)].columns[0]:s[0],d['node_' + \"{}\".format(i)].columns[1]:s[1],d['node_' + \"{}\".format(i)].columns[2]:rnd_num},ignore_index = True)\n",
        "      elif count==0:\n",
        "        rnd_num=random.random()\n",
        "        d['node_' + \"{}\".format(i)]=d['node_' + \"{}\".format(i)].append({d['node_' + \"{}\".format(i)].columns[0]:s[0],\"P(\"+\"{}\".format(i)+\")\":rnd_num},ignore_index = True)\n",
        "    else:\n",
        "      if count==2:\n",
        "        str='{0:03b}'.format(j)\n",
        "      elif count==1:\n",
        "        str='{0:02b}'.format(j)\n",
        "      elif count==0:\n",
        "        str='{0:01b}'.format(j)\n",
        "      s=[]\n",
        "      for k in str:\n",
        "        s.append(k)\n",
        "      if count==2:\n",
        "        d['node_' + \"{}\".format(i)]=d['node_' + \"{}\".format(i)].append({d['node_' + \"{}\".format(i)].columns[0]:s[0],d['node_' + \"{}\".format(i)].columns[1]:s[1],d['node_' + \"{}\".format(i)].columns[2]:s[2],d['node_' + \"{}\".format(i)].columns[3]:1-rnd_num},ignore_index = True)\n",
        "      elif count==1:\n",
        "        d['node_' + \"{}\".format(i)]=d['node_' + \"{}\".format(i)].append({d['node_' + \"{}\".format(i)].columns[0]:s[0],d['node_' + \"{}\".format(i)].columns[1]:s[1],d['node_' + \"{}\".format(i)].columns[2]:1-rnd_num},ignore_index = True)\n",
        "      elif count==0:\n",
        "       d['node_' + \"{}\".format(i)]=d['node_' + \"{}\".format(i)].append({d['node_' + \"{}\".format(i)].columns[0]:s[0],\"P(\"+\"{}\".format(i)+\")\":1-rnd_num},ignore_index = True)\n",
        "      print(\"\\n\")\n",
        "  print(d['node_' + \"{}\".format(i)])"
      ],
      "metadata": {
        "colab": {
          "base_uri": "https://localhost:8080/"
        },
        "id": "5-XFog75QPjl",
        "outputId": "8679ecd9-4c3a-4dfd-c542-9efd7ce51383"
      },
      "execution_count": null,
      "outputs": [
        {
          "output_type": "stream",
          "name": "stdout",
          "text": [
            "[['0', 'P(0)'], ['1', 'P(1)'], ['2', 'P(2)'], ['3', 'P(3)'], ['4', 'P(4)']]\n",
            "Empty DataFrame\n",
            "Columns: [0, P(0)]\n",
            "Index: []\n",
            "Empty DataFrame\n",
            "Columns: [1, P(1)]\n",
            "Index: []\n",
            "Empty DataFrame\n",
            "Columns: [2, P(2)]\n",
            "Index: []\n",
            "Empty DataFrame\n",
            "Columns: [3, P(3)]\n",
            "Index: []\n",
            "Empty DataFrame\n",
            "Columns: [4, P(4)]\n",
            "Index: []\n",
            "\n",
            "\n",
            "   0      P(0)\n",
            "0  0  0.693366\n",
            "1  1  0.306634\n",
            "\n",
            "\n",
            "   1      P(1)\n",
            "0  0  0.852871\n",
            "1  1  0.147129\n",
            "\n",
            "\n",
            "   2      P(2)\n",
            "0  0  0.907794\n",
            "1  1  0.092206\n",
            "\n",
            "\n",
            "   3      P(3)\n",
            "0  0  0.915683\n",
            "1  1  0.084317\n",
            "\n",
            "\n",
            "   4      P(4)\n",
            "0  0  0.507566\n",
            "1  1  0.492434\n"
          ]
        }
      ]
    },
    {
      "cell_type": "code",
      "source": [
        "Task2(G)"
      ],
      "metadata": {
        "colab": {
          "base_uri": "https://localhost:8080/"
        },
        "id": "1SIcjnWyQa5r",
        "outputId": "0df8f061-da02-495a-b077-7b38f60b479d"
      },
      "execution_count": null,
      "outputs": [
        {
          "output_type": "stream",
          "name": "stdout",
          "text": [
            "0.00017271857991974263\n"
          ]
        }
      ]
    },
    {
      "cell_type": "code",
      "source": [
        "Task3(G)"
      ],
      "metadata": {
        "colab": {
          "base_uri": "https://localhost:8080/"
        },
        "id": "-0w2VCtGU-Fb",
        "outputId": "e84beed9-bdd6-49ee-e2e2-0b80b99dd64f"
      },
      "execution_count": null,
      "outputs": [
        {
          "output_type": "stream",
          "name": "stdout",
          "text": [
            "Enter the conditional probability\n",
            "P(4/3,2,1,0)\n",
            "4\n",
            "[]\n",
            "[]\n",
            "[]\n",
            "[]\n",
            "[]\n",
            "Total Probabilty after even 4\n",
            "[]\n",
            "2\n",
            "0.4924340548063214\n"
          ]
        }
      ]
    },
    {
      "cell_type": "markdown",
      "source": [
        "#Task4  when connectivity is 0.5 as we change in gnp_random_graph (5, 0.1, seed=10,directed=True) so 5*0.1=0.5"
      ],
      "metadata": {
        "id": "r-X9TOrWsoCY"
      }
    },
    {
      "cell_type": "code",
      "source": [
        "\n",
        "# import required module\n",
        "import networkx as nx\n",
        "import random\n",
        "# create object\n",
        "#G = nx.barabasi_albert_graph (5,2)\n",
        "N=5\n",
        "G= nx.gnp_random_graph (5, 0.1, seed=10,directed=True) \n",
        "for (u, v) in G.edges():\n",
        "  G.edges[u,v]['weight'] = random.random()\n",
        "  print(u,v, \" Conditional probability = %1.2f \" % G.edges[u,v]['weight'])\n",
        "# note that these weights are only there for demonstration purposes. In your code\n",
        "# you will need to replace the weights by probability tables for each node.\n",
        "# illustrate graph\n",
        "pos = nx.nx_pydot.graphviz_layout(G)\n",
        "nx.draw(G,node_size=1200, node_color='lightblue', linewidths=0.25, \\\n",
        "    font_size=10, font_weight='bold',pos=pos, with_labels = True)\n",
        "labels = {e: round(G.edges[e]['weight'],2) for e in G.edges}\n",
        "print(labels)\n",
        "nx.draw_networkx_edge_labels(G, pos, edge_labels=labels)\n",
        "#finding descendants of a node\n",
        "print(\"finding descendants of nodes\")\n",
        "desc=[ [] for _ in range(N)]\n",
        "for link in G.edges():\n",
        "    desc[link[0]].append(link[1])\n",
        "for node in range(N-1):\n",
        "  print(\"For node\", node, \"It's descendants are\", desc[node])"
      ],
      "metadata": {
        "colab": {
          "base_uri": "https://localhost:8080/",
          "height": 446
        },
        "id": "p2IHwaiKVAru",
        "outputId": "c0314cc6-0354-427c-fb5c-347cf153a233"
      },
      "execution_count": null,
      "outputs": [
        {
          "output_type": "stream",
          "name": "stdout",
          "text": [
            "3 1  Conditional probability = 0.23 \n",
            "{(3, 1): 0.23}\n",
            "finding descendants of nodes\n",
            "For node 0 It's descendants are []\n",
            "For node 1 It's descendants are []\n",
            "For node 2 It's descendants are []\n",
            "For node 3 It's descendants are [1]\n"
          ]
        },
        {
          "output_type": "display_data",
          "data": {
            "text/plain": [
              "<Figure size 432x288 with 1 Axes>"
            ],
            "image/png": "[encoded data removed]"
          },
          "metadata": {}
        }
      ]
    },
    {
      "cell_type": "code",
      "source": [
        "k=[]\n",
        "for i in range(5):\n",
        "  count=G.in_degree(i)\n",
        "  if count==0:\n",
        "    a=[\"{}\".format(i),\"P(\"+\"{}\".format(i)+\")\"]\n",
        "    k.append(a)\n",
        "  elif count==1:\n",
        "    pre=0\n",
        "    for j in range(len(desc)):\n",
        "       print(desc[j])\n",
        "       if i in desc[j]:\n",
        "          pre=j\n",
        "    a=[\"{}\".format(pre),\"{}\".format(i),\"P(\"+\"{}\".format(i)+\"/\"+\"{}\".format(pre)+\")\"]\n",
        "    k.append(a)\n",
        "  else:\n",
        "    count3=[]\n",
        "    for j in range(len(desc)):\n",
        "       print(desc[j])\n",
        "       if i in desc[j]:\n",
        "          count3.append(j)\n",
        "    a=[\"{}\".format(count3[0]),\"{}\".format(count3[1]),\"{}\".format(i),\"P(\"+\"{}\".format(i)+\"/\"+\"{}\".format(count3[0])+\",\"+\"{}\".format(count3[1])+\")\"]\n",
        "    k.append(a)\n",
        "print(k)\n",
        "d = {}\n",
        "l=[]\n",
        "import pandas as pd\n",
        "import random\n",
        "rnd_num=0\n",
        "for i in range(5):\n",
        "  d['node_' + \"{}\".format(i)] =pd.DataFrame(columns=k[i])\n",
        "  print( d['node_' + \"{}\".format(i)])\n",
        "\n",
        "#Display all probability tables\n",
        "for i in range(5):\n",
        "  count=G.in_degree(i)\n",
        "  for j in range(2**(count+1)):\n",
        "    if j%2==0:\n",
        "      if count==2:\n",
        "        str='{0:03b}'.format(j)\n",
        "      elif count==1:\n",
        "        str='{0:02b}'.format(j)\n",
        "      elif count==0:\n",
        "        str='{0:01b}'.format(j)\n",
        "      s=[]\n",
        "      for k in str:\n",
        "        s.append(k)\n",
        "      if count==2:\n",
        "        rnd_num=random.random()\n",
        "        d['node_' + \"{}\".format(i)]=d['node_' + \"{}\".format(i)].append({d['node_' + \"{}\".format(i)].columns[0]:s[0],d['node_' + \"{}\".format(i)].columns[1]:s[1],\"{}\".format(i):s[2],d['node_' + \"{}\".format(i)].columns[3]:rnd_num},ignore_index = True)\n",
        "      elif count==1:\n",
        "        rnd_num=random.random()\n",
        "        d['node_' + \"{}\".format(i)]=d['node_' + \"{}\".format(i)].append({d['node_' + \"{}\".format(i)].columns[0]:s[0],d['node_' + \"{}\".format(i)].columns[1]:s[1],d['node_' + \"{}\".format(i)].columns[2]:rnd_num},ignore_index = True)\n",
        "      elif count==0:\n",
        "        rnd_num=random.random()\n",
        "        d['node_' + \"{}\".format(i)]=d['node_' + \"{}\".format(i)].append({d['node_' + \"{}\".format(i)].columns[0]:s[0],\"P(\"+\"{}\".format(i)+\")\":rnd_num},ignore_index = True)\n",
        "    else:\n",
        "      if count==2:\n",
        "        str='{0:03b}'.format(j)\n",
        "      elif count==1:\n",
        "        str='{0:02b}'.format(j)\n",
        "      elif count==0:\n",
        "        str='{0:01b}'.format(j)\n",
        "      s=[]\n",
        "      for k in str:\n",
        "        s.append(k)\n",
        "      if count==2:\n",
        "        d['node_' + \"{}\".format(i)]=d['node_' + \"{}\".format(i)].append({d['node_' + \"{}\".format(i)].columns[0]:s[0],d['node_' + \"{}\".format(i)].columns[1]:s[1],d['node_' + \"{}\".format(i)].columns[2]:s[2],d['node_' + \"{}\".format(i)].columns[3]:1-rnd_num},ignore_index = True)\n",
        "      elif count==1:\n",
        "        d['node_' + \"{}\".format(i)]=d['node_' + \"{}\".format(i)].append({d['node_' + \"{}\".format(i)].columns[0]:s[0],d['node_' + \"{}\".format(i)].columns[1]:s[1],d['node_' + \"{}\".format(i)].columns[2]:1-rnd_num},ignore_index = True)\n",
        "      elif count==0:\n",
        "       d['node_' + \"{}\".format(i)]=d['node_' + \"{}\".format(i)].append({d['node_' + \"{}\".format(i)].columns[0]:s[0],\"P(\"+\"{}\".format(i)+\")\":1-rnd_num},ignore_index = True)\n",
        "      print(\"\\n\")\n",
        "  print(d['node_' + \"{}\".format(i)])"
      ],
      "metadata": {
        "colab": {
          "base_uri": "https://localhost:8080/"
        },
        "id": "4A7wcmx4WEtw",
        "outputId": "5817c0f1-02c4-448d-ddb9-b1c51bea5a08"
      },
      "execution_count": null,
      "outputs": [
        {
          "output_type": "stream",
          "name": "stdout",
          "text": [
            "[]\n",
            "[]\n",
            "[]\n",
            "[1]\n",
            "[]\n",
            "[['0', 'P(0)'], ['3', '1', 'P(1/3)'], ['2', 'P(2)'], ['3', 'P(3)'], ['4', 'P(4)']]\n",
            "Empty DataFrame\n",
            "Columns: [0, P(0)]\n",
            "Index: []\n",
            "Empty DataFrame\n",
            "Columns: [3, 1, P(1/3)]\n",
            "Index: []\n",
            "Empty DataFrame\n",
            "Columns: [2, P(2)]\n",
            "Index: []\n",
            "Empty DataFrame\n",
            "Columns: [3, P(3)]\n",
            "Index: []\n",
            "Empty DataFrame\n",
            "Columns: [4, P(4)]\n",
            "Index: []\n",
            "\n",
            "\n",
            "   0    P(0)\n",
            "0  0  0.4584\n",
            "1  1  0.5416\n",
            "\n",
            "\n",
            "\n",
            "\n",
            "   3  1    P(1/3)\n",
            "0  0  0  0.770027\n",
            "1  0  1  0.229973\n",
            "2  1  0  0.100178\n",
            "3  1  1  0.899822\n",
            "\n",
            "\n",
            "   2      P(2)\n",
            "0  0  0.260609\n",
            "1  1  0.739391\n",
            "\n",
            "\n",
            "   3      P(3)\n",
            "0  0  0.844086\n",
            "1  1  0.155914\n",
            "\n",
            "\n",
            "   4      P(4)\n",
            "0  0  0.779097\n",
            "1  1  0.220903\n"
          ]
        }
      ]
    },
    {
      "cell_type": "code",
      "source": [
        "Task2(G)"
      ],
      "metadata": {
        "colab": {
          "base_uri": "https://localhost:8080/"
        },
        "id": "EvnV4wAHWTPK",
        "outputId": "e4872550-867f-4148-f6c0-0757d9f1e7a5"
      },
      "execution_count": null,
      "outputs": [
        {
          "output_type": "stream",
          "name": "stdout",
          "text": [
            "0.012410674792729726\n"
          ]
        }
      ]
    },
    {
      "cell_type": "code",
      "source": [
        "Task3(G)"
      ],
      "metadata": {
        "colab": {
          "base_uri": "https://localhost:8080/"
        },
        "id": "ir1A-QzgWfWE",
        "outputId": "760b642c-f07c-410e-dcd1-2bf543ae1f3e"
      },
      "execution_count": null,
      "outputs": [
        {
          "output_type": "stream",
          "name": "stdout",
          "text": [
            "Enter the conditional probability\n",
            "P(4/0,1,2,3)\n",
            "4\n",
            "[]\n",
            "[]\n",
            "[]\n",
            "[1]\n",
            "[]\n",
            "Total Probabilty after even 4\n",
            "[]\n",
            "2\n",
            "0.2209025947081782\n"
          ]
        }
      ]
    },
    {
      "cell_type": "markdown",
      "source": [
        "#Task4  when connectivity is 1 as we change in gnp_random_graph (5, 0.2, seed=10,directed=True) so 5*0.2=1"
      ],
      "metadata": {
        "id": "UEnyQ94YstJ_"
      }
    },
    {
      "cell_type": "code",
      "source": [
        "\n",
        "# import required module\n",
        "import networkx as nx\n",
        "import random\n",
        "# create object\n",
        "#G = nx.barabasi_albert_graph (5,2)\n",
        "N=5\n",
        "G= nx.gnp_random_graph (5, 0.2, seed=10,directed=True) \n",
        "for (u, v) in G.edges():\n",
        "  G.edges[u,v]['weight'] = random.random()\n",
        "  print(u,v, \" Conditional probability = %1.2f \" % G.edges[u,v]['weight'])\n",
        "# note that these weights are only there for demonstration purposes. In your code\n",
        "# you will need to replace the weights by probability tables for each node.\n",
        "# illustrate graph\n",
        "pos = nx.nx_pydot.graphviz_layout(G)\n",
        "nx.draw(G,node_size=1200, node_color='lightblue', linewidths=0.25, \\\n",
        "    font_size=10, font_weight='bold',pos=pos, with_labels = True)\n",
        "labels = {e: round(G.edges[e]['weight'],2) for e in G.edges}\n",
        "print(labels)\n",
        "nx.draw_networkx_edge_labels(G, pos, edge_labels=labels)\n",
        "#finding descendants of a node\n",
        "print(\"finding descendants of nodes\")\n",
        "desc=[ [] for _ in range(N)]\n",
        "for link in G.edges():\n",
        "    desc[link[0]].append(link[1])\n",
        "for node in range(N-1):\n",
        "  print(\"For node\", node, \"It's descendants are\", desc[node])"
      ],
      "metadata": {
        "colab": {
          "base_uri": "https://localhost:8080/",
          "height": 465
        },
        "id": "A271MBQ-Wkay",
        "outputId": "3ed53ecb-41cd-4153-d585-5928ebdbfec6"
      },
      "execution_count": null,
      "outputs": [
        {
          "output_type": "stream",
          "name": "stdout",
          "text": [
            "1 4  Conditional probability = 0.89 \n",
            "3 1  Conditional probability = 0.48 \n",
            "{(1, 4): 0.89, (3, 1): 0.48}\n",
            "finding descendants of nodes\n",
            "For node 0 It's descendants are []\n",
            "For node 1 It's descendants are [4]\n",
            "For node 2 It's descendants are []\n",
            "For node 3 It's descendants are [1]\n"
          ]
        },
        {
          "output_type": "display_data",
          "data": {
            "text/plain": [
              "<Figure size 432x288 with 1 Axes>"
            ],
            "image/png": "[encoded data removed]"
          },
          "metadata": {}
        }
      ]
    },
    {
      "cell_type": "code",
      "source": [
        "k=[]\n",
        "for i in range(5):\n",
        "  count=G.in_degree(i)\n",
        "  if count==0:\n",
        "    a=[\"{}\".format(i),\"P(\"+\"{}\".format(i)+\")\"]\n",
        "    k.append(a)\n",
        "  elif count==1:\n",
        "    pre=0\n",
        "    for j in range(len(desc)):\n",
        "       print(desc[j])\n",
        "       if i in desc[j]:\n",
        "          pre=j\n",
        "    a=[\"{}\".format(pre),\"{}\".format(i),\"P(\"+\"{}\".format(i)+\"/\"+\"{}\".format(pre)+\")\"]\n",
        "    k.append(a)\n",
        "  else:\n",
        "    count3=[]\n",
        "    for j in range(len(desc)):\n",
        "       print(desc[j])\n",
        "       if i in desc[j]:\n",
        "          count3.append(j)\n",
        "    a=[\"{}\".format(count3[0]),\"{}\".format(count3[1]),\"{}\".format(i),\"P(\"+\"{}\".format(i)+\"/\"+\"{}\".format(count3[0])+\",\"+\"{}\".format(count3[1])+\")\"]\n",
        "    k.append(a)\n",
        "print(k)\n",
        "d = {}\n",
        "l=[]\n",
        "import pandas as pd\n",
        "import random\n",
        "rnd_num=0\n",
        "for i in range(5):\n",
        "  d['node_' + \"{}\".format(i)] =pd.DataFrame(columns=k[i])\n",
        "  print( d['node_' + \"{}\".format(i)])\n",
        "\n",
        "#Display all probability tables\n",
        "for i in range(5):\n",
        "  count=G.in_degree(i)\n",
        "  for j in range(2**(count+1)):\n",
        "    if j%2==0:\n",
        "      if count==2:\n",
        "        str='{0:03b}'.format(j)\n",
        "      elif count==1:\n",
        "        str='{0:02b}'.format(j)\n",
        "      elif count==0:\n",
        "        str='{0:01b}'.format(j)\n",
        "      s=[]\n",
        "      for k in str:\n",
        "        s.append(k)\n",
        "      if count==2:\n",
        "        rnd_num=random.random()\n",
        "        d['node_' + \"{}\".format(i)]=d['node_' + \"{}\".format(i)].append({d['node_' + \"{}\".format(i)].columns[0]:s[0],d['node_' + \"{}\".format(i)].columns[1]:s[1],\"{}\".format(i):s[2],d['node_' + \"{}\".format(i)].columns[3]:rnd_num},ignore_index = True)\n",
        "      elif count==1:\n",
        "        rnd_num=random.random()\n",
        "        d['node_' + \"{}\".format(i)]=d['node_' + \"{}\".format(i)].append({d['node_' + \"{}\".format(i)].columns[0]:s[0],d['node_' + \"{}\".format(i)].columns[1]:s[1],d['node_' + \"{}\".format(i)].columns[2]:rnd_num},ignore_index = True)\n",
        "      elif count==0:\n",
        "        rnd_num=random.random()\n",
        "        d['node_' + \"{}\".format(i)]=d['node_' + \"{}\".format(i)].append({d['node_' + \"{}\".format(i)].columns[0]:s[0],\"P(\"+\"{}\".format(i)+\")\":rnd_num},ignore_index = True)\n",
        "    else:\n",
        "      if count==2:\n",
        "        str='{0:03b}'.format(j)\n",
        "      elif count==1:\n",
        "        str='{0:02b}'.format(j)\n",
        "      elif count==0:\n",
        "        str='{0:01b}'.format(j)\n",
        "      s=[]\n",
        "      for k in str:\n",
        "        s.append(k)\n",
        "      if count==2:\n",
        "        d['node_' + \"{}\".format(i)]=d['node_' + \"{}\".format(i)].append({d['node_' + \"{}\".format(i)].columns[0]:s[0],d['node_' + \"{}\".format(i)].columns[1]:s[1],d['node_' + \"{}\".format(i)].columns[2]:s[2],d['node_' + \"{}\".format(i)].columns[3]:1-rnd_num},ignore_index = True)\n",
        "      elif count==1:\n",
        "        d['node_' + \"{}\".format(i)]=d['node_' + \"{}\".format(i)].append({d['node_' + \"{}\".format(i)].columns[0]:s[0],d['node_' + \"{}\".format(i)].columns[1]:s[1],d['node_' + \"{}\".format(i)].columns[2]:1-rnd_num},ignore_index = True)\n",
        "      elif count==0:\n",
        "       d['node_' + \"{}\".format(i)]=d['node_' + \"{}\".format(i)].append({d['node_' + \"{}\".format(i)].columns[0]:s[0],\"P(\"+\"{}\".format(i)+\")\":1-rnd_num},ignore_index = True)\n",
        "      print(\"\\n\")\n",
        "  print(d['node_' + \"{}\".format(i)])"
      ],
      "metadata": {
        "colab": {
          "base_uri": "https://localhost:8080/"
        },
        "id": "lp6_tsMcXA-h",
        "outputId": "f0983bb3-28ec-43c1-a5b7-91baf12a2cf4"
      },
      "execution_count": null,
      "outputs": [
        {
          "output_type": "stream",
          "name": "stdout",
          "text": [
            "[]\n",
            "[4]\n",
            "[]\n",
            "[1]\n",
            "[]\n",
            "[]\n",
            "[4]\n",
            "[]\n",
            "[1]\n",
            "[]\n",
            "[['0', 'P(0)'], ['3', '1', 'P(1/3)'], ['2', 'P(2)'], ['3', 'P(3)'], ['1', '4', 'P(4/1)']]\n",
            "Empty DataFrame\n",
            "Columns: [0, P(0)]\n",
            "Index: []\n",
            "Empty DataFrame\n",
            "Columns: [3, 1, P(1/3)]\n",
            "Index: []\n",
            "Empty DataFrame\n",
            "Columns: [2, P(2)]\n",
            "Index: []\n",
            "Empty DataFrame\n",
            "Columns: [3, P(3)]\n",
            "Index: []\n",
            "Empty DataFrame\n",
            "Columns: [1, 4, P(4/1)]\n",
            "Index: []\n",
            "\n",
            "\n",
            "   0      P(0)\n",
            "0  0  0.901567\n",
            "1  1  0.098433\n",
            "\n",
            "\n",
            "\n",
            "\n",
            "   3  1    P(1/3)\n",
            "0  0  0  0.827880\n",
            "1  0  1  0.172120\n",
            "2  1  0  0.831881\n",
            "3  1  1  0.168119\n",
            "\n",
            "\n",
            "   2      P(2)\n",
            "0  0  0.025166\n",
            "1  1  0.974834\n",
            "\n",
            "\n",
            "   3      P(3)\n",
            "0  0  0.328198\n",
            "1  1  0.671802\n",
            "\n",
            "\n",
            "\n",
            "\n",
            "   1  4    P(4/1)\n",
            "0  0  0  0.732696\n",
            "1  0  1  0.267304\n",
            "2  1  0  0.135035\n",
            "3  1  1  0.864965\n"
          ]
        }
      ]
    },
    {
      "cell_type": "code",
      "source": [
        "Task2(G)"
      ],
      "metadata": {
        "colab": {
          "base_uri": "https://localhost:8080/"
        },
        "id": "KsKLTujkXHG0",
        "outputId": "93fcc0ce-961e-4c3f-e995-f3b7ea7838b2"
      },
      "execution_count": null,
      "outputs": [
        {
          "output_type": "stream",
          "name": "stdout",
          "text": [
            "0.00937405977651771\n"
          ]
        }
      ]
    },
    {
      "cell_type": "code",
      "source": [
        "Task3(G)"
      ],
      "metadata": {
        "colab": {
          "base_uri": "https://localhost:8080/"
        },
        "id": "p-YrTKveXj3x",
        "outputId": "03adcc14-3dc2-421e-f4d7-4ca352816283"
      },
      "execution_count": null,
      "outputs": [
        {
          "output_type": "stream",
          "name": "stdout",
          "text": [
            "Enter the conditional probability\n",
            "P(4/0,1,2,3)\n",
            "4\n",
            "[]\n",
            "[4]\n",
            "[]\n",
            "[1]\n",
            "[]\n",
            "Total Probabilty after even 4\n",
            "[1]\n",
            "4\n",
            "0.8649653716676349\n"
          ]
        }
      ]
    },
    {
      "cell_type": "code",
      "source": [
        "#Task4  when connectivity is 1.5 as we change in gnp_random_graph (5, 0.3, seed=10,directed=True) so 5*0.3=1.5\n",
        "# import required module\n",
        "import networkx as nx\n",
        "import random\n",
        "# create object\n",
        "#G = nx.barabasi_albert_graph (5,2)\n",
        "N=5\n",
        "G= nx.gnp_random_graph (5, 0.3, seed=10,directed=True) \n",
        "for (u, v) in G.edges():\n",
        "  G.edges[u,v]['weight'] = random.random()\n",
        "  print(u,v, \" Conditional probability = %1.2f \" % G.edges[u,v]['weight'])\n",
        "# note that these weights are only there for demonstration purposes. In your code\n",
        "# you will need to replace the weights by probability tables for each node.\n",
        "# illustrate graph\n",
        "pos = nx.nx_pydot.graphviz_layout(G)\n",
        "nx.draw(G,node_size=1200, node_color='lightblue', linewidths=0.25, \\\n",
        "    font_size=10, font_weight='bold',pos=pos, with_labels = True)\n",
        "labels = {e: round(G.edges[e]['weight'],2) for e in G.edges}\n",
        "print(labels)\n",
        "nx.draw_networkx_edge_labels(G, pos, edge_labels=labels)\n",
        "#finding descendants of a node\n",
        "print(\"finding descendants of nodes\")\n",
        "desc=[ [] for _ in range(N)]\n",
        "for link in G.edges():\n",
        "    desc[link[0]].append(link[1])\n",
        "for node in range(N-1):\n",
        "  print(\"For node\", node, \"It's descendants are\", desc[node])"
      ],
      "metadata": {
        "colab": {
          "base_uri": "https://localhost:8080/",
          "height": 520
        },
        "id": "79zrnad0XooU",
        "outputId": "1cfdf92c-ab4e-4b0d-a6f7-804fd7dda10b"
      },
      "execution_count": null,
      "outputs": [
        {
          "output_type": "stream",
          "name": "stdout",
          "text": [
            "0 4  Conditional probability = 0.68 \n",
            "1 4  Conditional probability = 0.97 \n",
            "2 3  Conditional probability = 0.21 \n",
            "3 1  Conditional probability = 0.93 \n",
            "4 1  Conditional probability = 0.78 \n",
            "{(0, 4): 0.68, (1, 4): 0.97, (2, 3): 0.21, (3, 1): 0.93, (4, 1): 0.78}\n",
            "finding descendants of nodes\n",
            "For node 0 It's descendants are [4]\n",
            "For node 1 It's descendants are [4]\n",
            "For node 2 It's descendants are [3]\n",
            "For node 3 It's descendants are [1]\n"
          ]
        },
        {
          "output_type": "display_data",
          "data": {
            "text/plain": [
              "<Figure size 432x288 with 1 Axes>"
            ],
            "image/png": "[encoded data removed]"
          },
          "metadata": {}
        }
      ]
    },
    {
      "cell_type": "code",
      "source": [
        "k=[]\n",
        "for i in range(5):\n",
        "  count=G.in_degree(i)\n",
        "  if count==0:\n",
        "    a=[\"{}\".format(i),\"P(\"+\"{}\".format(i)+\")\"]\n",
        "    k.append(a)\n",
        "  elif count==1:\n",
        "    pre=0\n",
        "    for j in range(len(desc)):\n",
        "       print(desc[j])\n",
        "       if i in desc[j]:\n",
        "          pre=j\n",
        "    a=[\"{}\".format(pre),\"{}\".format(i),\"P(\"+\"{}\".format(i)+\"/\"+\"{}\".format(pre)+\")\"]\n",
        "    k.append(a)\n",
        "  else:\n",
        "    count3=[]\n",
        "    for j in range(len(desc)):\n",
        "       print(desc[j])\n",
        "       if i in desc[j]:\n",
        "          count3.append(j)\n",
        "    a=[\"{}\".format(count3[0]),\"{}\".format(count3[1]),\"{}\".format(i),\"P(\"+\"{}\".format(i)+\"/\"+\"{}\".format(count3[0])+\",\"+\"{}\".format(count3[1])+\")\"]\n",
        "    k.append(a)\n",
        "print(k)\n",
        "d = {}\n",
        "l=[]\n",
        "import pandas as pd\n",
        "import random\n",
        "rnd_num=0\n",
        "for i in range(5):\n",
        "  d['node_' + \"{}\".format(i)] =pd.DataFrame(columns=k[i])\n",
        "  print( d['node_' + \"{}\".format(i)])\n",
        "\n",
        "#Display all probability tables\n",
        "for i in range(5):\n",
        "  count=G.in_degree(i)\n",
        "  for j in range(2**(count+1)):\n",
        "    if j%2==0:\n",
        "      if count==2:\n",
        "        str='{0:03b}'.format(j)\n",
        "      elif count==1:\n",
        "        str='{0:02b}'.format(j)\n",
        "      elif count==0:\n",
        "        str='{0:01b}'.format(j)\n",
        "      s=[]\n",
        "      for k in str:\n",
        "        s.append(k)\n",
        "      if count==2:\n",
        "        rnd_num=random.random()\n",
        "        d['node_' + \"{}\".format(i)]=d['node_' + \"{}\".format(i)].append({d['node_' + \"{}\".format(i)].columns[0]:s[0],d['node_' + \"{}\".format(i)].columns[1]:s[1],\"{}\".format(i):s[2],d['node_' + \"{}\".format(i)].columns[3]:rnd_num},ignore_index = True)\n",
        "      elif count==1:\n",
        "        rnd_num=random.random()\n",
        "        d['node_' + \"{}\".format(i)]=d['node_' + \"{}\".format(i)].append({d['node_' + \"{}\".format(i)].columns[0]:s[0],d['node_' + \"{}\".format(i)].columns[1]:s[1],d['node_' + \"{}\".format(i)].columns[2]:rnd_num},ignore_index = True)\n",
        "      elif count==0:\n",
        "        rnd_num=random.random()\n",
        "        d['node_' + \"{}\".format(i)]=d['node_' + \"{}\".format(i)].append({d['node_' + \"{}\".format(i)].columns[0]:s[0],\"P(\"+\"{}\".format(i)+\")\":rnd_num},ignore_index = True)\n",
        "    else:\n",
        "      if count==2:\n",
        "        str='{0:03b}'.format(j)\n",
        "      elif count==1:\n",
        "        str='{0:02b}'.format(j)\n",
        "      elif count==0:\n",
        "        str='{0:01b}'.format(j)\n",
        "      s=[]\n",
        "      for k in str:\n",
        "        s.append(k)\n",
        "      if count==2:\n",
        "        d['node_' + \"{}\".format(i)]=d['node_' + \"{}\".format(i)].append({d['node_' + \"{}\".format(i)].columns[0]:s[0],d['node_' + \"{}\".format(i)].columns[1]:s[1],d['node_' + \"{}\".format(i)].columns[2]:s[2],d['node_' + \"{}\".format(i)].columns[3]:1-rnd_num},ignore_index = True)\n",
        "      elif count==1:\n",
        "        d['node_' + \"{}\".format(i)]=d['node_' + \"{}\".format(i)].append({d['node_' + \"{}\".format(i)].columns[0]:s[0],d['node_' + \"{}\".format(i)].columns[1]:s[1],d['node_' + \"{}\".format(i)].columns[2]:1-rnd_num},ignore_index = True)\n",
        "      elif count==0:\n",
        "       d['node_' + \"{}\".format(i)]=d['node_' + \"{}\".format(i)].append({d['node_' + \"{}\".format(i)].columns[0]:s[0],\"P(\"+\"{}\".format(i)+\")\":1-rnd_num},ignore_index = True)\n",
        "      print(\"\\n\")\n",
        "  print(d['node_' + \"{}\".format(i)])"
      ],
      "metadata": {
        "colab": {
          "base_uri": "https://localhost:8080/"
        },
        "id": "7vsUYSKjYKuE",
        "outputId": "c16d1467-e484-4fad-de9f-6f080d97b7e5"
      },
      "execution_count": null,
      "outputs": [
        {
          "output_type": "stream",
          "name": "stdout",
          "text": [
            "[4]\n",
            "[4]\n",
            "[3]\n",
            "[1]\n",
            "[1]\n",
            "[4]\n",
            "[4]\n",
            "[3]\n",
            "[1]\n",
            "[1]\n",
            "[4]\n",
            "[4]\n",
            "[3]\n",
            "[1]\n",
            "[1]\n",
            "[['0', 'P(0)'], ['3', '4', '1', 'P(1/3,4)'], ['2', 'P(2)'], ['2', '3', 'P(3/2)'], ['0', '1', '4', 'P(4/0,1)']]\n",
            "Empty DataFrame\n",
            "Columns: [0, P(0)]\n",
            "Index: []\n",
            "Empty DataFrame\n",
            "Columns: [3, 4, 1, P(1/3,4)]\n",
            "Index: []\n",
            "Empty DataFrame\n",
            "Columns: [2, P(2)]\n",
            "Index: []\n",
            "Empty DataFrame\n",
            "Columns: [2, 3, P(3/2)]\n",
            "Index: []\n",
            "Empty DataFrame\n",
            "Columns: [0, 1, 4, P(4/0,1)]\n",
            "Index: []\n",
            "\n",
            "\n",
            "   0     P(0)\n",
            "0  0  0.82068\n",
            "1  1  0.17932\n",
            "\n",
            "\n",
            "\n",
            "\n",
            "\n",
            "\n",
            "\n",
            "\n",
            "   3  4  1  P(1/3,4)\n",
            "0  0  0  0  0.507458\n",
            "1  0  0  1  0.492542\n",
            "2  0  1  0  0.312679\n",
            "3  0  1  1  0.687321\n",
            "4  1  0  0  0.900683\n",
            "5  1  0  1  0.099317\n",
            "6  1  1  0  0.850701\n",
            "7  1  1  1  0.149299\n",
            "\n",
            "\n",
            "   2      P(2)\n",
            "0  0  0.142865\n",
            "1  1  0.857135\n",
            "\n",
            "\n",
            "\n",
            "\n",
            "   2  3    P(3/2)\n",
            "0  0  0  0.462956\n",
            "1  0  1  0.537044\n",
            "2  1  0  0.527891\n",
            "3  1  1  0.472109\n",
            "\n",
            "\n",
            "\n",
            "\n",
            "\n",
            "\n",
            "\n",
            "\n",
            "   0  1  4  P(4/0,1)\n",
            "0  0  0  0  0.136666\n",
            "1  0  0  1  0.863334\n",
            "2  0  1  0  0.550375\n",
            "3  0  1  1  0.449625\n",
            "4  1  0  0  0.522068\n",
            "5  1  0  1  0.477932\n",
            "6  1  1  0  0.249858\n",
            "7  1  1  1  0.750142\n"
          ]
        }
      ]
    },
    {
      "cell_type": "code",
      "source": [
        "Task2(G)"
      ],
      "metadata": {
        "colab": {
          "base_uri": "https://localhost:8080/"
        },
        "id": "TkeT_J5_YX22",
        "outputId": "7eb6b571-fbb6-4815-8e22-4a8abb908460"
      },
      "execution_count": null,
      "outputs": [
        {
          "output_type": "stream",
          "name": "stdout",
          "text": [
            "0.008126785896648066\n"
          ]
        }
      ]
    },
    {
      "cell_type": "code",
      "source": [
        "Task3(G)"
      ],
      "metadata": {
        "colab": {
          "base_uri": "https://localhost:8080/"
        },
        "id": "bB7xbizjYeWI",
        "outputId": "c0b37c25-26d4-4986-9b36-c9ee21d5a764"
      },
      "execution_count": null,
      "outputs": [
        {
          "output_type": "stream",
          "name": "stdout",
          "text": [
            "Enter the conditional probability\n",
            "P(4/0,1,2,3)\n",
            "4\n",
            "[4]\n",
            "[4]\n",
            "[3]\n",
            "[1]\n",
            "[1]\n",
            "Total Probabilty after even 4\n",
            "[0, 1]\n",
            "8\n",
            "0.7501418159883454\n"
          ]
        }
      ]
    },
    {
      "cell_type": "markdown",
      "source": [
        "# when connectivity is 2.5 =>5*0.5=2.5"
      ],
      "metadata": {
        "id": "5qeWaR1Rs_mS"
      }
    },
    {
      "cell_type": "code",
      "source": [
        "# import required module()\n",
        "import networkx as nx\n",
        "import random\n",
        "# create object\n",
        "#G = nx.barabasi_albert_graph (5,2)\n",
        "N=5\n",
        "G= nx.gnp_random_graph (5, 0.5, seed=10,directed=True) \n",
        "DAG = nx.DiGraph([(u,v,{'weight':random.randint(-10,10)}) for (u,v) in G.edges() if u<v])\n",
        "# for (u, v) in G.edges():\n",
        "#   G.edges[u,v]['weight'] = random.random()\n",
        "  # print(u,v, \" Conditional probability = %1.2f \" % G.edges[u,v]['weight'])\n",
        "# note that these weights are only there for demonstration purposes. In your code\n",
        "# you will need to replace the weights by probability tables for each node.\n",
        "# illustrate graph\n",
        "pos = nx.nx_pydot.graphviz_layout(DAG)\n",
        "nx.draw(DAG,node_size=1200, node_color='lightblue', linewidths=0.25, \\\n",
        "    font_size=10, font_weight='bold',pos=pos, with_labels = True)\n",
        "labels = {e: round(DAG.edges[e]['weight'],2) for e in DAG.edges}\n",
        "print(labels)\n",
        "nx.draw_networkx_edge_labels(DAG, pos, edge_labels=labels)\n",
        "#finding descendants of a node\n",
        "print(\"finding descendants of nodes\")\n",
        "desc=[ [] for _ in range(N)]\n",
        "for link in DAG.edges():\n",
        "    desc[link[0]].append(link[1])\n",
        "for node in range(N-1):\n",
        "  print(\"For node\", node, \"It's descendants are\", desc[node])"
      ],
      "metadata": {
        "colab": {
          "base_uri": "https://localhost:8080/",
          "height": 428
        },
        "id": "3mrrIqMVYga_",
        "outputId": "cad77de2-54c7-42b2-b056-f97120c910d6"
      },
      "execution_count": null,
      "outputs": [
        {
          "output_type": "stream",
          "name": "stdout",
          "text": [
            "{(0, 2): -2, (0, 4): -3, (2, 3): 10, (1, 4): 10}\n",
            "finding descendants of nodes\n",
            "For node 0 It's descendants are [2, 4]\n",
            "For node 1 It's descendants are [4]\n",
            "For node 2 It's descendants are [3]\n",
            "For node 3 It's descendants are []\n"
          ]
        },
        {
          "output_type": "display_data",
          "data": {
            "text/plain": [
              "<Figure size 432x288 with 1 Axes>"
            ],
            "image/png": "[encoded data removed]"
          },
          "metadata": {}
        }
      ]
    },
    {
      "cell_type": "code",
      "source": [
        "k=[]\n",
        "for i in range(5):\n",
        "  count=DAG.in_degree(i)\n",
        "  if count==0:\n",
        "    a=[\"{}\".format(i),\"P(\"+\"{}\".format(i)+\")\"]\n",
        "    k.append(a)\n",
        "  elif count==1:\n",
        "    pre=0\n",
        "    for j in range(len(desc)):\n",
        "       print(desc[j])\n",
        "       if i in desc[j]:\n",
        "          pre=j\n",
        "    a=[\"{}\".format(pre),\"{}\".format(i),\"P(\"+\"{}\".format(i)+\"/\"+\"{}\".format(pre)+\")\"]\n",
        "    k.append(a)\n",
        "  else:\n",
        "    count3=[]\n",
        "    for j in range(len(desc)):\n",
        "       print(desc[j])\n",
        "       if i in desc[j]:\n",
        "          count3.append(j)\n",
        "    a=[\"{}\".format(count3[0]),\"{}\".format(count3[1]),\"{}\".format(i),\"P(\"+\"{}\".format(i)+\"/\"+\"{}\".format(count3[0])+\",\"+\"{}\".format(count3[1])+\")\"]\n",
        "    k.append(a)\n",
        "print(k)\n",
        "d = {}\n",
        "l=[]\n",
        "import pandas as pd\n",
        "import random\n",
        "rnd_num=0\n",
        "for i in range(5):\n",
        "  d['node_' + \"{}\".format(i)] =pd.DataFrame(columns=k[i])\n",
        "  print( d['node_' + \"{}\".format(i)])\n",
        "\n",
        "d['node_' + \"{}\".format(3)].columns[2]\n",
        "#Display all probability tables\n",
        "for i in range(5):\n",
        "  count=DAG.in_degree(i)\n",
        "  for j in range(2**(count+1)):\n",
        "    if j%2==0:\n",
        "      if count==2:\n",
        "        str='{0:03b}'.format(j)\n",
        "      elif count==1:\n",
        "        str='{0:02b}'.format(j)\n",
        "      elif count==0:\n",
        "        str='{0:01b}'.format(j)\n",
        "      s=[]\n",
        "      for k in str:\n",
        "        s.append(k)\n",
        "      if count==2:\n",
        "        rnd_num=random.random()\n",
        "        d['node_' + \"{}\".format(i)]=d['node_' + \"{}\".format(i)].append({d['node_' + \"{}\".format(i)].columns[0]:s[0],d['node_' + \"{}\".format(i)].columns[1]:s[1],\"{}\".format(i):s[2],d['node_' + \"{}\".format(i)].columns[3]:rnd_num},ignore_index = True)\n",
        "      elif count==1:\n",
        "        rnd_num=random.random()\n",
        "        d['node_' + \"{}\".format(i)]=d['node_' + \"{}\".format(i)].append({d['node_' + \"{}\".format(i)].columns[0]:s[0],d['node_' + \"{}\".format(i)].columns[1]:s[1],d['node_' + \"{}\".format(i)].columns[2]:rnd_num},ignore_index = True)\n",
        "      elif count==0:\n",
        "        rnd_num=random.random()\n",
        "        d['node_' + \"{}\".format(i)]=d['node_' + \"{}\".format(i)].append({d['node_' + \"{}\".format(i)].columns[0]:s[0],\"P(\"+\"{}\".format(i)+\")\":rnd_num},ignore_index = True)\n",
        "    else:\n",
        "      if count==2:\n",
        "        str='{0:03b}'.format(j)\n",
        "      elif count==1:\n",
        "        str='{0:02b}'.format(j)\n",
        "      elif count==0:\n",
        "        str='{0:01b}'.format(j)\n",
        "      s=[]\n",
        "      for k in str:\n",
        "        s.append(k)\n",
        "      if count==2:\n",
        "        d['node_' + \"{}\".format(i)]=d['node_' + \"{}\".format(i)].append({d['node_' + \"{}\".format(i)].columns[0]:s[0],d['node_' + \"{}\".format(i)].columns[1]:s[1],d['node_' + \"{}\".format(i)].columns[2]:s[2],d['node_' + \"{}\".format(i)].columns[3]:1-rnd_num},ignore_index = True)\n",
        "      elif count==1:\n",
        "        d['node_' + \"{}\".format(i)]=d['node_' + \"{}\".format(i)].append({d['node_' + \"{}\".format(i)].columns[0]:s[0],d['node_' + \"{}\".format(i)].columns[1]:s[1],d['node_' + \"{}\".format(i)].columns[2]:1-rnd_num},ignore_index = True)\n",
        "      elif count==0:\n",
        "       d['node_' + \"{}\".format(i)]=d['node_' + \"{}\".format(i)].append({d['node_' + \"{}\".format(i)].columns[0]:s[0],\"P(\"+\"{}\".format(i)+\")\":1-rnd_num},ignore_index = True)\n",
        "      print(\"\\n\")\n",
        "  print(d['node_' + \"{}\".format(i)])"
      ],
      "metadata": {
        "colab": {
          "base_uri": "https://localhost:8080/"
        },
        "id": "BfStdrkyZFQm",
        "outputId": "9e3ec87b-b769-44c8-b5b6-6baab7c1fa98"
      },
      "execution_count": null,
      "outputs": [
        {
          "output_type": "stream",
          "name": "stdout",
          "text": [
            "[2, 4]\n",
            "[4]\n",
            "[3]\n",
            "[]\n",
            "[]\n",
            "[2, 4]\n",
            "[4]\n",
            "[3]\n",
            "[]\n",
            "[]\n",
            "[2, 4]\n",
            "[4]\n",
            "[3]\n",
            "[]\n",
            "[]\n",
            "[['0', 'P(0)'], ['1', 'P(1)'], ['0', '2', 'P(2/0)'], ['2', '3', 'P(3/2)'], ['0', '1', '4', 'P(4/0,1)']]\n",
            "Empty DataFrame\n",
            "Columns: [0, P(0)]\n",
            "Index: []\n",
            "Empty DataFrame\n",
            "Columns: [1, P(1)]\n",
            "Index: []\n",
            "Empty DataFrame\n",
            "Columns: [0, 2, P(2/0)]\n",
            "Index: []\n",
            "Empty DataFrame\n",
            "Columns: [2, 3, P(3/2)]\n",
            "Index: []\n",
            "Empty DataFrame\n",
            "Columns: [0, 1, 4, P(4/0,1)]\n",
            "Index: []\n",
            "\n",
            "\n",
            "   0      P(0)\n",
            "0  0  0.895084\n",
            "1  1  0.104916\n",
            "\n",
            "\n",
            "   1      P(1)\n",
            "0  0  0.887847\n",
            "1  1  0.112153\n",
            "\n",
            "\n",
            "\n",
            "\n",
            "   0  2    P(2/0)\n",
            "0  0  0  0.784581\n",
            "1  0  1  0.215419\n",
            "2  1  0  0.645337\n",
            "3  1  1  0.354663\n",
            "\n",
            "\n",
            "\n",
            "\n",
            "   2  3    P(3/2)\n",
            "0  0  0  0.127169\n",
            "1  0  1  0.872831\n",
            "2  1  0  0.005082\n",
            "3  1  1  0.994918\n",
            "\n",
            "\n",
            "\n",
            "\n",
            "\n",
            "\n",
            "\n",
            "\n",
            "   0  1  4  P(4/0,1)\n",
            "0  0  0  0  0.740786\n",
            "1  0  0  1  0.259214\n",
            "2  0  1  0  0.208436\n",
            "3  0  1  1  0.791564\n",
            "4  1  0  0  0.704518\n",
            "5  1  0  1  0.295482\n",
            "6  1  1  0  0.999566\n",
            "7  1  1  1  0.000434\n"
          ]
        }
      ]
    },
    {
      "cell_type": "code",
      "source": [
        "Task2(G)"
      ],
      "metadata": {
        "colab": {
          "base_uri": "https://localhost:8080/"
        },
        "id": "3BngL42DZOKK",
        "outputId": "bb07f49e-a7ba-4407-daa6-8ae2d9c3e7a5"
      },
      "execution_count": null,
      "outputs": [
        {
          "output_type": "stream",
          "name": "stdout",
          "text": [
            "1.8033177961468701e-06\n"
          ]
        }
      ]
    },
    {
      "cell_type": "code",
      "source": [
        "Task3(G)"
      ],
      "metadata": {
        "colab": {
          "base_uri": "https://localhost:8080/"
        },
        "id": "CQT87eZXZZDc",
        "outputId": "042c6c7d-a6fe-47cd-cd28-cbd122912386"
      },
      "execution_count": null,
      "outputs": [
        {
          "output_type": "stream",
          "name": "stdout",
          "text": [
            "Enter the conditional probability\n",
            "P(4/0,1,2,3)\n",
            "4\n",
            "[2, 4]\n",
            "[4]\n",
            "[3]\n",
            "[]\n",
            "[]\n",
            "Total Probabilty after even 4\n",
            "[0, 1]\n",
            "8\n",
            "0.00043432536657239673\n"
          ]
        }
      ]
    },
    {
      "cell_type": "markdown",
      "source": [
        "# when connectivity is 3 =>5*0.6=3"
      ],
      "metadata": {
        "id": "FILVQRnTs0x8"
      }
    },
    {
      "cell_type": "code",
      "source": [
        "# import required module\n",
        "import networkx as nx\n",
        "import random\n",
        "# create object\n",
        "#G = nx.barabasi_albert_graph (5,2)\n",
        "N=5\n",
        "G= nx.gnp_random_graph (5, 0.5, seed=10,directed=True) \n",
        "DAG = nx.DiGraph([(u,v,{'weight':random.randint(-10,10)}) for (u,v) in G.edges() if u<v])\n",
        "# for (u, v) in G.edges():\n",
        "#   G.edges[u,v]['weight'] = random.random()\n",
        "  # print(u,v, \" Conditional probability = %1.2f \" % G.edges[u,v]['weight'])\n",
        "# note that these weights are only there for demonstration purposes. In your code\n",
        "# you will need to replace the weights by probability tables for each node.\n",
        "# illustrate graph\n",
        "pos = nx.nx_pydot.graphviz_layout(DAG)\n",
        "nx.draw(DAG,node_size=1200, node_color='lightblue', linewidths=0.25, \\\n",
        "    font_size=10, font_weight='bold',pos=pos, with_labels = True)\n",
        "labels = {e: round(DAG.edges[e]['weight'],2) for e in DAG.edges}\n",
        "print(labels)\n",
        "nx.draw_networkx_edge_labels(DAG, pos, edge_labels=labels)\n",
        "#finding descendants of a node\n",
        "print(\"finding descendants of nodes\")\n",
        "desc=[ [] for _ in range(N)]\n",
        "for link in DAG.edges():\n",
        "    desc[link[0]].append(link[1])\n",
        "for node in range(N-1):\n",
        "  print(\"For node\", node, \"It's descendants are\", desc[node])"
      ],
      "metadata": {
        "colab": {
          "base_uri": "https://localhost:8080/",
          "height": 428
        },
        "id": "JGgv7324awww",
        "outputId": "55f0ae85-6a85-46ef-ef26-7b415bba569f"
      },
      "execution_count": null,
      "outputs": [
        {
          "output_type": "stream",
          "name": "stdout",
          "text": [
            "{(0, 2): -5, (0, 4): 5, (2, 3): 7, (1, 4): 6}\n",
            "finding descendants of nodes\n",
            "For node 0 It's descendants are [2, 4]\n",
            "For node 1 It's descendants are [4]\n",
            "For node 2 It's descendants are [3]\n",
            "For node 3 It's descendants are []\n"
          ]
        },
        {
          "output_type": "display_data",
          "data": {
            "text/plain": [
              "<Figure size 432x288 with 1 Axes>"
            ],
            "image/png": "[encoded data removed]"
          },
          "metadata": {}
        }
      ]
    },
    {
      "cell_type": "code",
      "source": [
        "k=[]\n",
        "for i in range(5):\n",
        "  count=DAG.in_degree(i)\n",
        "  if count==0:\n",
        "    a=[\"{}\".format(i),\"P(\"+\"{}\".format(i)+\")\"]\n",
        "    k.append(a)\n",
        "  elif count==1:\n",
        "    pre=0\n",
        "    for j in range(len(desc)):\n",
        "       print(desc[j])\n",
        "       if i in desc[j]:\n",
        "          pre=j\n",
        "    a=[\"{}\".format(pre),\"{}\".format(i),\"P(\"+\"{}\".format(i)+\"/\"+\"{}\".format(pre)+\")\"]\n",
        "    k.append(a)\n",
        "  else:\n",
        "    count3=[]\n",
        "    for j in range(len(desc)):\n",
        "       print(desc[j])\n",
        "       if i in desc[j]:\n",
        "          count3.append(j)\n",
        "    a=[\"{}\".format(count3[0]),\"{}\".format(count3[1]),\"{}\".format(i),\"P(\"+\"{}\".format(i)+\"/\"+\"{}\".format(count3[0])+\",\"+\"{}\".format(count3[1])+\")\"]\n",
        "    k.append(a)\n",
        "print(k)\n",
        "d = {}\n",
        "l=[]\n",
        "import pandas as pd\n",
        "import random\n",
        "rnd_num=0\n",
        "for i in range(5):\n",
        "  d['node_' + \"{}\".format(i)] =pd.DataFrame(columns=k[i])\n",
        "  print( d['node_' + \"{}\".format(i)])\n",
        "\n",
        "d['node_' + \"{}\".format(3)].columns[2]\n",
        "#Display all probability tables\n",
        "for i in range(5):\n",
        "  count=DAG.in_degree(i)\n",
        "  for j in range(2**(count+1)):\n",
        "    if j%2==0:\n",
        "      if count==2:\n",
        "        str='{0:03b}'.format(j)\n",
        "      elif count==1:\n",
        "        str='{0:02b}'.format(j)\n",
        "      elif count==0:\n",
        "        str='{0:01b}'.format(j)\n",
        "      s=[]\n",
        "      for k in str:\n",
        "        s.append(k)\n",
        "      if count==2:\n",
        "        rnd_num=random.random()\n",
        "        d['node_' + \"{}\".format(i)]=d['node_' + \"{}\".format(i)].append({d['node_' + \"{}\".format(i)].columns[0]:s[0],d['node_' + \"{}\".format(i)].columns[1]:s[1],\"{}\".format(i):s[2],d['node_' + \"{}\".format(i)].columns[3]:rnd_num},ignore_index = True)\n",
        "      elif count==1:\n",
        "        rnd_num=random.random()\n",
        "        d['node_' + \"{}\".format(i)]=d['node_' + \"{}\".format(i)].append({d['node_' + \"{}\".format(i)].columns[0]:s[0],d['node_' + \"{}\".format(i)].columns[1]:s[1],d['node_' + \"{}\".format(i)].columns[2]:rnd_num},ignore_index = True)\n",
        "      elif count==0:\n",
        "        rnd_num=random.random()\n",
        "        d['node_' + \"{}\".format(i)]=d['node_' + \"{}\".format(i)].append({d['node_' + \"{}\".format(i)].columns[0]:s[0],\"P(\"+\"{}\".format(i)+\")\":rnd_num},ignore_index = True)\n",
        "    else:\n",
        "      if count==2:\n",
        "        str='{0:03b}'.format(j)\n",
        "      elif count==1:\n",
        "        str='{0:02b}'.format(j)\n",
        "      elif count==0:\n",
        "        str='{0:01b}'.format(j)\n",
        "      s=[]\n",
        "      for k in str:\n",
        "        s.append(k)\n",
        "      if count==2:\n",
        "        d['node_' + \"{}\".format(i)]=d['node_' + \"{}\".format(i)].append({d['node_' + \"{}\".format(i)].columns[0]:s[0],d['node_' + \"{}\".format(i)].columns[1]:s[1],d['node_' + \"{}\".format(i)].columns[2]:s[2],d['node_' + \"{}\".format(i)].columns[3]:1-rnd_num},ignore_index = True)\n",
        "      elif count==1:\n",
        "        d['node_' + \"{}\".format(i)]=d['node_' + \"{}\".format(i)].append({d['node_' + \"{}\".format(i)].columns[0]:s[0],d['node_' + \"{}\".format(i)].columns[1]:s[1],d['node_' + \"{}\".format(i)].columns[2]:1-rnd_num},ignore_index = True)\n",
        "      elif count==0:\n",
        "       d['node_' + \"{}\".format(i)]=d['node_' + \"{}\".format(i)].append({d['node_' + \"{}\".format(i)].columns[0]:s[0],\"P(\"+\"{}\".format(i)+\")\":1-rnd_num},ignore_index = True)\n",
        "      print(\"\\n\")\n",
        "  print(d['node_' + \"{}\".format(i)])"
      ],
      "metadata": {
        "colab": {
          "base_uri": "https://localhost:8080/"
        },
        "id": "aumF3Ne_bB1n",
        "outputId": "4d084b6d-4be1-4a51-8a65-7e678a7ed2f6"
      },
      "execution_count": null,
      "outputs": [
        {
          "output_type": "stream",
          "name": "stdout",
          "text": [
            "[2, 4]\n",
            "[4]\n",
            "[3]\n",
            "[]\n",
            "[]\n",
            "[2, 4]\n",
            "[4]\n",
            "[3]\n",
            "[]\n",
            "[]\n",
            "[2, 4]\n",
            "[4]\n",
            "[3]\n",
            "[]\n",
            "[]\n",
            "[['0', 'P(0)'], ['1', 'P(1)'], ['0', '2', 'P(2/0)'], ['2', '3', 'P(3/2)'], ['0', '1', '4', 'P(4/0,1)']]\n",
            "Empty DataFrame\n",
            "Columns: [0, P(0)]\n",
            "Index: []\n",
            "Empty DataFrame\n",
            "Columns: [1, P(1)]\n",
            "Index: []\n",
            "Empty DataFrame\n",
            "Columns: [0, 2, P(2/0)]\n",
            "Index: []\n",
            "Empty DataFrame\n",
            "Columns: [2, 3, P(3/2)]\n",
            "Index: []\n",
            "Empty DataFrame\n",
            "Columns: [0, 1, 4, P(4/0,1)]\n",
            "Index: []\n",
            "\n",
            "\n",
            "   0      P(0)\n",
            "0  0  0.241947\n",
            "1  1  0.758053\n",
            "\n",
            "\n",
            "   1      P(1)\n",
            "0  0  0.333684\n",
            "1  1  0.666316\n",
            "\n",
            "\n",
            "\n",
            "\n",
            "   0  2    P(2/0)\n",
            "0  0  0  0.177873\n",
            "1  0  1  0.822127\n",
            "2  1  0  0.433664\n",
            "3  1  1  0.566336\n",
            "\n",
            "\n",
            "\n",
            "\n",
            "   2  3    P(3/2)\n",
            "0  0  0  0.989342\n",
            "1  0  1  0.010658\n",
            "2  1  0  0.183347\n",
            "3  1  1  0.816653\n",
            "\n",
            "\n",
            "\n",
            "\n",
            "\n",
            "\n",
            "\n",
            "\n",
            "   0  1  4  P(4/0,1)\n",
            "0  0  0  0  0.840845\n",
            "1  0  0  1  0.159155\n",
            "2  0  1  0  0.404800\n",
            "3  0  1  1  0.595200\n",
            "4  1  0  0  0.527647\n",
            "5  1  0  1  0.472353\n",
            "6  1  1  0  0.276552\n",
            "7  1  1  1  0.723448\n"
          ]
        }
      ]
    },
    {
      "cell_type": "code",
      "source": [
        "Task2(DAG)"
      ],
      "metadata": {
        "colab": {
          "base_uri": "https://localhost:8080/"
        },
        "id": "DnZEJGfibNCk",
        "outputId": "6188157b-98c5-4ee9-8bff-b8186311dda9"
      },
      "execution_count": null,
      "outputs": [
        {
          "output_type": "stream",
          "name": "stdout",
          "text": [
            "0.16900471663126573\n"
          ]
        }
      ]
    },
    {
      "cell_type": "code",
      "source": [
        "Task3(DAG)"
      ],
      "metadata": {
        "colab": {
          "base_uri": "https://localhost:8080/"
        },
        "id": "JXcFW4IRbTxi",
        "outputId": "f49b0af2-f7dd-41ba-c94c-7f38cca8b011"
      },
      "execution_count": null,
      "outputs": [
        {
          "output_type": "stream",
          "name": "stdout",
          "text": [
            "Enter the conditional probability\n",
            "P(4/0,1,2,3)\n",
            "4\n",
            "[2, 4]\n",
            "[4]\n",
            "[3]\n",
            "[]\n",
            "[]\n",
            "Total Probabilty after even 4\n",
            "[0, 1]\n",
            "8\n",
            "0.7234476407792794\n"
          ]
        }
      ]
    },
    {
      "cell_type": "code",
      "source": [],
      "metadata": {
        "id": "lFpbai6Vbccg"
      },
      "execution_count": null,
      "outputs": []
    }
  ]
}